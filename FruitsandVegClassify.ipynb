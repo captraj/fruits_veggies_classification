{
  "nbformat": 4,
  "nbformat_minor": 0,
  "metadata": {
    "colab": {
      "provenance": [],
      "gpuType": "T4",
      "authorship_tag": "ABX9TyOtgMoyMn6/h7qUyd+A3ng4"
    },
    "kernelspec": {
      "name": "python3",
      "display_name": "Python 3"
    },
    "language_info": {
      "name": "python"
    },
    "accelerator": "GPU"
  },
  "cells": [
    {
      "cell_type": "code",
      "source": [
        "import torch\n",
        "import torch.nn as nn\n",
        "import torch.optim as optim\n",
        "import torchvision.transforms as transforms\n",
        "import torchvision.models as models\n",
        "from torchvision.datasets import ImageFolder\n",
        "from torch.utils.data import DataLoader"
      ],
      "metadata": {
        "id": "w-TN3cfD_M2z"
      },
      "execution_count": 1,
      "outputs": []
    },
    {
      "cell_type": "code",
      "source": [
        "!pip freeze > requirements.txt"
      ],
      "metadata": {
        "id": "8tft4mKO3lyq"
      },
      "execution_count": 2,
      "outputs": []
    },
    {
      "cell_type": "code",
      "source": [
        "data_dir = 'mod_fol'\n",
        "train_dir = data_dir + '/train'\n",
        "val_dir = data_dir + '/validation'\n",
        "test_dir = data_dir + '/test'"
      ],
      "metadata": {
        "id": "p3mB_0fQ_QHq"
      },
      "execution_count": null,
      "outputs": []
    },
    {
      "cell_type": "code",
      "source": [
        "train_transform = transforms.Compose([\n",
        "    transforms.RandomResizedCrop(224),\n",
        "    transforms.RandomHorizontalFlip(),\n",
        "    transforms.ToTensor(),\n",
        "    transforms.Normalize(mean=[0.485, 0.456, 0.406], std=[0.229, 0.224, 0.225])\n",
        "])\n",
        "val_transform = transforms.Compose([\n",
        "    transforms.Resize(256),\n",
        "    transforms.CenterCrop(224),\n",
        "    transforms.ToTensor(),\n",
        "    transforms.Normalize(mean=[0.485, 0.456, 0.406], std=[0.229, 0.224, 0.225])\n",
        "])\n",
        "test_transform = transforms.Compose([\n",
        "    transforms.Resize(256),\n",
        "    transforms.CenterCrop(224),\n",
        "    transforms.ToTensor(),\n",
        "    transforms.Normalize(mean=[0.485, 0.456, 0.406], std=[0.229, 0.224, 0.225])\n",
        "])"
      ],
      "metadata": {
        "id": "CoKwGdGT_SXz"
      },
      "execution_count": null,
      "outputs": []
    },
    {
      "cell_type": "code",
      "source": [
        "train_set = ImageFolder(train_dir, transform=train_transform)\n",
        "val_set = ImageFolder(val_dir, transform=val_transform)\n",
        "test_set = ImageFolder(test_dir, transform=test_transform)\n"
      ],
      "metadata": {
        "id": "SIEvXrE__UsP"
      },
      "execution_count": null,
      "outputs": []
    },
    {
      "cell_type": "code",
      "source": [
        "batch_size = 32\n",
        "train_loader = DataLoader(train_set, batch_size=batch_size, shuffle=True)\n",
        "val_loader = DataLoader(val_set, batch_size=batch_size)\n",
        "test_loader = DataLoader(test_set, batch_size=batch_size)\n"
      ],
      "metadata": {
        "id": "lH8E-4FZ_Wfp"
      },
      "execution_count": null,
      "outputs": []
    },
    {
      "cell_type": "code",
      "source": [
        "model = models.mobilenet_v2(pretrained=True)\n",
        "num_classes = len(train_set.classes)\n",
        "model.classifier[1] = nn.Linear(model.last_channel, num_classes)  # Modify the last layer"
      ],
      "metadata": {
        "id": "gvPpaxep_YsC"
      },
      "execution_count": null,
      "outputs": []
    },
    {
      "cell_type": "code",
      "source": [
        "criterion = nn.CrossEntropyLoss()\n",
        "optimizer = optim.SGD(model.parameters(), lr=0.0001, momentum=0.9)"
      ],
      "metadata": {
        "id": "FaBn0jra_cKi"
      },
      "execution_count": null,
      "outputs": []
    },
    {
      "cell_type": "code",
      "source": [
        "num_epochs = 1\n",
        "device = torch.device(\"cuda\" if torch.cuda.is_available() else \"cpu\")\n",
        "model.to(device)\n",
        "\n",
        "for epoch in range(num_epochs):\n",
        "    model.train()\n",
        "    running_loss = 0.0\n",
        "\n",
        "    for batch_idx, (images, labels) in enumerate(train_loader):\n",
        "        images, labels = images.to(device), labels.to(device)\n",
        "        optimizer.zero_grad()\n",
        "        outputs = model(images)\n",
        "        loss = criterion(outputs, labels)\n",
        "        loss.backward()\n",
        "        optimizer.step()\n",
        "\n",
        "        running_loss += loss.item()\n",
        "\n",
        "        if batch_idx % 10 == 9:  # Print loss every 10 batches\n",
        "            print(f\"Epoch [{epoch+1}/{num_epochs}], Batch [{batch_idx+1}/{len(train_loader)}], Loss: {running_loss/10:.4f}\")\n",
        "            running_loss = 0.0"
      ],
      "metadata": {
        "colab": {
          "base_uri": "https://localhost:8080/"
        },
        "id": "1eHcqTqV_e0w",
        "outputId": "a3850533-6020-4780-b1dc-9b84a645a813"
      },
      "execution_count": null,
      "outputs": [
        {
          "output_type": "stream",
          "name": "stdout",
          "text": [
            "Epoch [1/1], Batch [10/98], Loss: 0.5195\n",
            "Epoch [1/1], Batch [20/98], Loss: 0.5241\n",
            "Epoch [1/1], Batch [30/98], Loss: 0.4932\n",
            "Epoch [1/1], Batch [40/98], Loss: 0.6032\n",
            "Epoch [1/1], Batch [50/98], Loss: 0.5038\n",
            "Epoch [1/1], Batch [60/98], Loss: 0.5326\n",
            "Epoch [1/1], Batch [70/98], Loss: 0.5472\n",
            "Epoch [1/1], Batch [80/98], Loss: 0.5131\n",
            "Epoch [1/1], Batch [90/98], Loss: 0.4918\n"
          ]
        }
      ]
    },
    {
      "cell_type": "code",
      "source": [
        "model.eval()\n",
        "val_accuracy = 0.0\n",
        "val_total = 0\n",
        "\n",
        "with torch.no_grad():\n",
        "    for images, labels in val_loader:\n",
        "        images, labels = images.to(device), labels.to(device)\n",
        "        outputs = model(images)\n",
        "        _, predicted = torch.max(outputs.data, 1)\n",
        "        val_total += labels.size(0)\n",
        "        val_accuracy += (predicted == labels).sum().item()\n",
        "\n",
        "print(f\"Epoch {epoch+1}/{num_epochs}, Loss: {running_loss:.4f}, Validation Accuracy: {100 * val_accuracy / val_total:.2f}%\")"
      ],
      "metadata": {
        "colab": {
          "base_uri": "https://localhost:8080/"
        },
        "id": "hA_WOBVXENSF",
        "outputId": "fb63841c-a67d-4eb2-e001-ecfa34010672"
      },
      "execution_count": null,
      "outputs": [
        {
          "output_type": "stream",
          "name": "stdout",
          "text": [
            "Epoch 1/1, Loss: 4.1541, Validation Accuracy: 92.31%\n"
          ]
        }
      ]
    },
    {
      "cell_type": "code",
      "source": [
        "torch.save(model.state_dict(), 'modelforclass.pth')"
      ],
      "metadata": {
        "id": "VQjfOk_QFOLL"
      },
      "execution_count": null,
      "outputs": []
    },
    {
      "cell_type": "code",
      "source": [
        "from PIL import Image\n",
        "\n",
        "# Step 14: Load the trained model\n",
        "model = models.mobilenet_v2(pretrained=False)\n",
        "model.classifier[1] = nn.Linear(model.last_channel, num_classes)\n",
        "model.load_state_dict(torch.load('modelforclass.pth'))\n",
        "model.to(device)\n",
        "model.eval()\n",
        "\n",
        "# Step 15: Preprocess the input image\n",
        "input_image = Image.open('beetrootone.jpg')\n",
        "input_image = test_transform(input_image)\n",
        "input_image = input_image.unsqueeze(0)  # Add a batch dimension\n",
        "input_image = input_image.to(device)  # Move the input image to the same device as the model\n",
        "\n",
        "# Step 16: Classify the input image\n",
        "with torch.no_grad():\n",
        "    output = model(input_image)\n",
        "\n",
        "# Step 17: Get the predicted class label\n",
        "_, predicted_idx = torch.max(output, 1)\n",
        "predicted_label = train_set.classes[predicted_idx.item()]\n",
        "\n",
        "# Step 18: Print the predicted label\n",
        "print(\"Predicted Label:\", predicted_label)\n"
      ],
      "metadata": {
        "colab": {
          "base_uri": "https://localhost:8080/"
        },
        "id": "Aj1EZXU_FYIF",
        "outputId": "65a6c672-8553-4fb2-d8a8-1a971ddbcacb"
      },
      "execution_count": null,
      "outputs": [
        {
          "output_type": "stream",
          "name": "stdout",
          "text": [
            "Predicted Label: beetroot\n"
          ]
        }
      ]
    }
  ]
}